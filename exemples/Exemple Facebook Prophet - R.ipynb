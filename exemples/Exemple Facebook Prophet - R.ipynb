{
 "cells": [
  {
   "cell_type": "markdown",
   "id": "victorian-father",
   "metadata": {},
   "source": [
    "# Page Wikipédia de Peyton Manning\n",
    "___\n",
    "Cet example est fait à partir de la guide \"Quick start\" de la documentation officiel de Facebook Prophet. (https://facebook.github.io/prophet/docs/quick_start.html) \n",
    "___\n",
    "\n",
    "À titre d'exemple, examinons une série chronologique du journalier des vues quotidiennes de la page Wikipédia de Peyton Manning. Nous avons gratté ces données à l'aide du package Wikipediatrend dans R. Peyton Manning est un bel exemple car il illustre certaines des fonctionnalités de Prophet, comme la saisonnalité multiple, les taux de croissance changeants et la possibilité de modéliser des jours spéciaux (tels que les play-offs de Manning et ses apparitions au Superbowl).\n",
    "___\n",
    "Nous allons d'abord importer les données :"
   ]
  },
  {
   "cell_type": "code",
   "execution_count": null,
   "id": "ignored-civilian",
   "metadata": {},
   "outputs": [],
   "source": [
    "library(prophet)"
   ]
  },
  {
   "cell_type": "markdown",
   "id": "minor-collection",
   "metadata": {},
   "source": [
    "Nous lisons d'abord les données et créons la variable de résultat."
   ]
  },
  {
   "cell_type": "code",
   "execution_count": null,
   "id": "fallen-moderator",
   "metadata": {},
   "outputs": [],
   "source": [
    "df <- read.csv('example_wp_log_peyton_manning.csv')"
   ]
  },
  {
   "cell_type": "markdown",
   "id": "cloudy-johnston",
   "metadata": {},
   "source": [
    "Nous appelons la fonction _prophet_ pour ajuster le modèle. Le premier argument est le dataframe historique."
   ]
  },
  {
   "cell_type": "code",
   "execution_count": null,
   "id": "reverse-pixel",
   "metadata": {},
   "outputs": [],
   "source": [
    "m <- prophet(df)"
   ]
  },
  {
   "cell_type": "markdown",
   "id": "equipped-comparison",
   "metadata": {},
   "source": [
    "Les prédictions sont faites sur un dataframe avec une colonne _ds_ contenant les dates pour lesquelles les prédictions doivent être faites. La fonction _make_future_dataframe_ prend l'objet _model_ et un certain nombre de périodes à prévoir et produit un dataframe approprié. Par défaut, il inclura également les dates historiques afin que nous puissions évaluer l'ajustement dans l'échantillon."
   ]
  },
  {
   "cell_type": "code",
   "execution_count": null,
   "id": "hungarian-alfred",
   "metadata": {},
   "outputs": [],
   "source": [
    "future <- make_future_dataframe(m, periods = 365)\n",
    "tail(future)"
   ]
  },
  {
   "cell_type": "markdown",
   "id": "white-wright",
   "metadata": {},
   "source": [
    "Comme avec la plupart des procédures de modélisation dans R, nous utilisons la fonction _predict_ générique pour obtenir nos prévisions. L'objet de prévision est un dataframe avec une colonne yhat contenant la prévision. Il comporte des colonnes supplémentaires pour les intervalles d'incertitude et les composantes saisonnières"
   ]
  },
  {
   "cell_type": "code",
   "execution_count": null,
   "id": "earned-radical",
   "metadata": {},
   "outputs": [],
   "source": [
    "forecast <- predict(m, future)\n",
    "tail(forecast[c('ds', 'yhat', 'yhat_lower', 'yhat_upper')])"
   ]
  },
  {
   "cell_type": "markdown",
   "id": "sound-cleaning",
   "metadata": {},
   "source": [
    "Vous pouvez utiliser la fonction _plot_ générique pour tracer la prévision, en transmettant le modèle et le dataframe de prévision."
   ]
  },
  {
   "cell_type": "code",
   "execution_count": null,
   "id": "ceramic-support",
   "metadata": {},
   "outputs": [],
   "source": [
    "plot(m, forecast)"
   ]
  },
  {
   "cell_type": "markdown",
   "id": "boxed-calculation",
   "metadata": {},
   "source": [
    "Vous pouvez utiliser la fonction _prophet_plot_components_ pour voir les prévisions ventilées en tendance, saisonnalité hebdomadaire et saisonnalité annuelle."
   ]
  },
  {
   "cell_type": "code",
   "execution_count": null,
   "id": "acquired-victim",
   "metadata": {},
   "outputs": [],
   "source": [
    "prophet_plot_components(m, forecast)"
   ]
  },
  {
   "cell_type": "markdown",
   "id": "aboriginal-flooring",
   "metadata": {},
   "source": [
    "An interactive plot of the forecast using Dygraphs can be made with the command _dyplot.prophet(m, forecast)._"
   ]
  },
  {
   "cell_type": "code",
   "execution_count": null,
   "id": "fantastic-onion",
   "metadata": {},
   "outputs": [],
   "source": [
    "dyplot.prophet(m, forecast)"
   ]
  }
 ],
 "metadata": {
  "kernelspec": {
   "display_name": "R",
   "language": "R",
   "name": "ir"
  },
  "language_info": {
   "codemirror_mode": "r",
   "file_extension": ".r",
   "mimetype": "text/x-r-source",
   "name": "R",
   "pygments_lexer": "r",
   "version": "4.0.4"
  }
 },
 "nbformat": 4,
 "nbformat_minor": 5
}
