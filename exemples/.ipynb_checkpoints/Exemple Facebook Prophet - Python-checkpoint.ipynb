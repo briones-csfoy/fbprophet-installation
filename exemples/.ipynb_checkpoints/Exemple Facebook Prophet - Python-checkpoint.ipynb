{
 "cells": [
  {
   "cell_type": "markdown",
   "metadata": {},
   "source": [
    "# Page Wikipédia de Peyton Manning\n",
    "___\n",
    "Cet example est fait à partir de la guide \"Quick start\" de la documentation officiel de Facebook Prophet. (https://facebook.github.io/prophet/docs/quick_start.html) \n",
    "___\n",
    "\n",
    "À titre d'exemple, examinons une série chronologique du journalier des vues quotidiennes de la page Wikipédia de Peyton Manning. Nous avons gratté ces données à l'aide du package Wikipediatrend dans R. Peyton Manning est un bel exemple car il illustre certaines des fonctionnalités de Prophet, comme la saisonnalité multiple, les taux de croissance changeants et la possibilité de modéliser des jours spéciaux (tels que les play-offs de Manning et ses apparitions au Superbowl).\n",
    "___\n",
    "Nous allons d'abord importer les données :"
   ]
  },
  {
   "cell_type": "code",
   "execution_count": null,
   "metadata": {},
   "outputs": [],
   "source": [
    "import pandas as pd\n",
    "from fbprophet import Prophet"
   ]
  },
  {
   "cell_type": "code",
   "execution_count": null,
   "metadata": {},
   "outputs": [],
   "source": [
    "#Il faudra peut être ajuster le chemin du fichier\n",
    "df = pd.read_csv('~/fbprophet-installation/exemples/example_wp_log_peyton_manning.csv')\n",
    "df.head()"
   ]
  },
  {
   "cell_type": "markdown",
   "metadata": {},
   "source": [
    "Nous adaptons le modèle en instanciant un nouvel objet _Prophet_. Tous les paramètres de la procédure de prévision sont transmis au constructeur. Ensuite, nous appelons sa méthode _fit_ et transmettons le dataframe historique. L'exécution devrait prendre 1 à 5 secondes."
   ]
  },
  {
   "cell_type": "code",
   "execution_count": null,
   "metadata": {},
   "outputs": [],
   "source": [
    "m = Prophet()\n",
    "m.fit(df)"
   ]
  },
  {
   "cell_type": "markdown",
   "metadata": {},
   "source": [
    "Les prédictions sont alors faites sur un dataframe avec une colonne _ds_ contenant les dates pour lesquelles une prédiction doit être faite. Vous pouvez obtenir une base de données appropriée qui s'étend dans le futur sur un nombre spécifié de jours en utilisant la méthode d'assistance (helper methode) _Prophet.make_future_dataframe. Par défaut_, il inclura également les dates de l'historique, donc nous verrons également modèle ajusté."
   ]
  },
  {
   "cell_type": "code",
   "execution_count": null,
   "metadata": {},
   "outputs": [],
   "source": [
    "future = m.make_future_dataframe(periods=365)\n",
    "future.tail()"
   ]
  },
  {
   "cell_type": "markdown",
   "metadata": {},
   "source": [
    "La méthode _predict_ attribuera à chaque ligne dans _future_ une valeur prédite qu'elle nomme _yhat_. Si vous transmettez des dates historiques, cela fournira un ajustement dans l'échantillon. L'objet _forecast_ ici est un nouveau dataframe qui comprend une colonne _yhat_ avec la prévision, ainsi que des colonnes pour les composants et les intervalles d'incertitude."
   ]
  },
  {
   "cell_type": "code",
   "execution_count": null,
   "metadata": {},
   "outputs": [],
   "source": [
    "forecast = m.predict(future)\n",
    "forecast[['ds', 'yhat', 'yhat_lower', 'yhat_upper']].tail()"
   ]
  },
  {
   "cell_type": "markdown",
   "metadata": {},
   "source": [
    "Vous pouvez tracer la prévision en appelant la méthode _Prophet.plot_ et en passant votre dataframe de prévision."
   ]
  },
  {
   "cell_type": "code",
   "execution_count": null,
   "metadata": {},
   "outputs": [],
   "source": [
    "fig1 = m.plot(forecast)"
   ]
  },
  {
   "cell_type": "markdown",
   "metadata": {},
   "source": [
    "Si vous voulez voir les composants de prévision, vous pouvez utiliser la méthode _Prophet.plot_components_. Par défaut, vous verrez la tendance, la saisonnalité annuelle et la saisonnalité hebdomadaire de la série chronologique. Si vous incluez les jours fériés, vous les verrez également ici."
   ]
  },
  {
   "cell_type": "code",
   "execution_count": null,
   "metadata": {},
   "outputs": [],
   "source": [
    "fig2 = m.plot_components(forecast)"
   ]
  },
  {
   "cell_type": "markdown",
   "metadata": {},
   "source": [
    "Une figure interactive de la prévision et des composants peut être créée avec _plotly_."
   ]
  },
  {
   "cell_type": "code",
   "execution_count": null,
   "metadata": {},
   "outputs": [],
   "source": [
    "from fbprophet.plot import plot_plotly, plot_components_plotly\n",
    "plot_plotly(m, forecast)"
   ]
  },
  {
   "cell_type": "code",
   "execution_count": null,
   "metadata": {},
   "outputs": [],
   "source": [
    "plot_components_plotly(m, forecast)"
   ]
  },
  {
   "cell_type": "code",
   "execution_count": null,
   "metadata": {},
   "outputs": [],
   "source": []
  }
 ],
 "metadata": {
  "kernelspec": {
   "display_name": "Prophet",
   "language": "python",
   "name": "prophet"
  },
  "language_info": {
   "codemirror_mode": {
    "name": "ipython",
    "version": 3
   },
   "file_extension": ".py",
   "mimetype": "text/x-python",
   "name": "python",
   "nbconvert_exporter": "python",
   "pygments_lexer": "ipython3",
   "version": "3.8.5"
  }
 },
 "nbformat": 4,
 "nbformat_minor": 5
}
